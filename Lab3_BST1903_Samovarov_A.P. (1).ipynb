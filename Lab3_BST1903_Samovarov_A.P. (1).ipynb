{
 "cells": [
  {
   "cell_type": "markdown",
   "metadata": {},
   "source": [
    "# Задание 1\n",
    "Реализовать методы поиска подстроки в строке. Добавить возможность ввода строки и подстроки с клавиатуры. Предусмотреть возможность существования пробела. Реализовать возможность выбора опции чувствительности или нечувствительности к регистру. Оценить время работы каждого алгоритма поиска и сравнить его со временем работы стандартной функции поиска, используемой в выбранном языке программирования. Алгоритмы:"
   ]
  },
  {
   "cell_type": "markdown",
   "metadata": {},
   "source": [
    "Кнута-Морриса-Пратта"
   ]
  },
  {
   "cell_type": "code",
   "execution_count": 61,
   "metadata": {},
   "outputs": [],
   "source": [
    "def KMPSearch(pat, txt):\n",
    "    txt=txt.lower()          #for noncarring about register\n",
    "    pat=pat.lower()\n",
    "    txt=txt.replace(' ','')      #for noncarring about spaces\n",
    "    pat=pat.replace(' ','')\n",
    "    M = len(pat)\n",
    "    N = len(txt)\n",
    "  \n",
    "    j = 0 # index for pat[]\n",
    "  \n",
    "    # Preprocess the pattern (calculate lps[] array)\n",
    "    lps=computeLPSArray(pat, M)  \n",
    "    i = 0 # index for txt[]\n",
    "    while i < N:\n",
    "        if pat[j] == txt[i]:\n",
    "            i += 1\n",
    "            j += 1\n",
    "  \n",
    "        if j == M:\n",
    "            print (\"Found pattern at index \" + str(i-j))\n",
    "            j = lps[j-1]\n",
    "  \n",
    "        # mismatch after j matches\n",
    "        elif i < N and pat[j] != txt[i]:\n",
    "            # Do not match lps[0..lps[j-1]] characters,\n",
    "            # they will match anyway\n",
    "            if j != 0:\n",
    "                j = lps[j-1]\n",
    "            else:\n",
    "                i += 1\n",
    "\n",
    "def computeLPSArray(pat, M):\n",
    "    # create lps[] that will hold the longest prefix suffix \n",
    "    # values for pattern\n",
    "    lps=[0]*M\n",
    "    lps[0]=0\n",
    "    k=0\n",
    "    for q in range(1, M):\n",
    "        #print(lps)\n",
    "        while k>0 and (pat[k] is not pat[q]):\n",
    "            #print(lps)\n",
    "            k=lps[k-1]\n",
    "        if pat[k]==pat[q]:\n",
    "            k=k+1\n",
    "        lps[q]=k\n",
    "    #print(lps)\n",
    "    return lps"
   ]
  },
  {
   "cell_type": "code",
   "execution_count": 62,
   "metadata": {},
   "outputs": [
    {
     "name": "stdout",
     "output_type": "stream",
     "text": [
      "Found pattern at index 3\n"
     ]
    }
   ],
   "source": [
    "#txt = \"qwerty\"\n",
    "#pat = \"rty\"\n",
    "txt=str(input(\"введите строку \"))\n",
    "pat=str(input(\"введите подстроку \"))\n",
    "KMPSearch(pat, txt)"
   ]
  },
  {
   "cell_type": "markdown",
   "metadata": {},
   "source": [
    "Упрощенный Бойера-Мура"
   ]
  },
  {
   "cell_type": "code",
   "execution_count": 70,
   "metadata": {},
   "outputs": [],
   "source": [
    "class searchBM:\n",
    "    def __init__(self, strr):\n",
    "        self.str=strr.replace(' ','') \n",
    "        self.strprob=strr\n",
    "        self.strregistr=self.str.lower()\n",
    "        \n",
    "    #создание префиксной функции\n",
    "    def prefix(self, podstr):\n",
    "        length_podstr=len(podstr)\n",
    "        p=[0]*(length_podstr)\n",
    "        k=1\n",
    "        for q in range(0,length_podstr):\n",
    "            p[q]=length_podstr-k\n",
    "            k=k+1\n",
    "            #print(k)\n",
    "        p[length_podstr-1]=length_podstr\n",
    "        return p\n",
    "    #    \n",
    "                            \n",
    "    def search(self, podstr):\n",
    "        podstr=podstr.replace(' ','')   #Убираем пробелы\n",
    "        podstr=podstr.lower()           #Все буквы в нижний регистр\n",
    "        length_str=len(self.strregistr)\n",
    "        length_podstr=len(podstr)\n",
    "        p=self.prefix(podstr)\n",
    "        i=length_podstr-1\n",
    "        j=i\n",
    "        st=0\n",
    "        while i<length_str:\n",
    "            if self.strregistr[i]==podstr[j]:\n",
    "                if(j==0):\n",
    "                    print(\"подстрока найдена\", i, i+length_podstr-1)\n",
    "                    i=i+(p[length_podstr-1]*2)-1\n",
    "                    j=length_podstr-1\n",
    "                else:\n",
    "                    i=i-1\n",
    "                    j=j-1\n",
    "                    \n",
    "            else:\n",
    "                while self.strregistr[i] is not podstr[j]:\n",
    "                    j=j-1;\n",
    "                    if j==-1:\n",
    "                        j=length_podstr-1\n",
    "                        break\n",
    "                i=i+p[j]\n",
    "                j=length_podstr-1   "
   ]
  },
  {
   "cell_type": "code",
   "execution_count": 71,
   "metadata": {},
   "outputs": [
    {
     "name": "stdout",
     "output_type": "stream",
     "text": [
      "подстрока найдена 2 4\n"
     ]
    }
   ],
   "source": [
    "a=searchBM(\"qwert y\")\n",
    "a.search(\"ert\")"
   ]
  },
  {
   "cell_type": "markdown",
   "metadata": {},
   "source": [
    "# Задание 2 \"Пятнашки\""
   ]
  },
  {
   "cell_type": "code",
   "execution_count": 63,
   "metadata": {},
   "outputs": [
    {
     "name": "stdout",
     "output_type": "stream",
     "text": [
      "True\n"
     ]
    }
   ],
   "source": [
    "import math\n",
    "def search_resh(mass): # Проверка существуюет ли решение \n",
    "    summ=int(0)\n",
    "    for i in range(len(mass)):\n",
    "        for j in range(i, len(mass)):\n",
    "            if mass[i]==0:\n",
    "                summ=summ+math.floor((i+1)/4)\n",
    "            elif mass[i]>mass[j]:\n",
    "                summ=summ+1\n",
    "    if summ%2==0:\n",
    "        return True\n",
    "    return False\n",
    "#\n",
    "\n",
    "mass=[15,2,1,12,8,5,6,11,4,9,10,7,3,14,13,0]\n",
    "print(search_resh(mass))"
   ]
  },
  {
   "cell_type": "code",
   "execution_count": 64,
   "metadata": {},
   "outputs": [
    {
     "name": "stdout",
     "output_type": "stream",
     "text": [
      "[15, 14, 10, 13, 9, 10, 14, 15]\n"
     ]
    }
   ],
   "source": [
    "from queue import PriorityQueue\n",
    "\n",
    "N = 4\n",
    "\n",
    "def moves(position):\n",
    "    blank = position.index(0)\n",
    "    i, j = divmod(blank, N)\n",
    "    offsets = []\n",
    "    if i > 0: offsets.append(-N)     # вниз\n",
    "    if i < N - 1: offsets.append(N)  # вверх\n",
    "    if j > 0: offsets.append(-1)     # вправо\n",
    "    if j < N - 1: offsets.append(1)  # влево\n",
    "    for offset in offsets:\n",
    "        swap = blank + offset\n",
    "        yield tuple(position[swap] if x==blank else position[blank] if x==swap else position[x] for x in range(N*N))\n",
    "\n",
    "\n",
    "def parity(permutation):\n",
    "    seen, cycles = set(), 0\n",
    "    for i in permutation:\n",
    "        if i not in seen:\n",
    "            cycles += 1\n",
    "            while i not in seen:\n",
    "                seen.add(i)\n",
    "                i = permutation[i]\n",
    "    return (cycles + len(permutation)) % 2\n",
    "\n",
    "\n",
    "class Position:\n",
    "    def __init__(self, position, start_distance):\n",
    "        self.position = position\n",
    "        self.start_distance = start_distance\n",
    "\n",
    "    def __lt__(self, other):\n",
    "        return self.start_distance < other.start_distance\n",
    "\n",
    "    def __str__(self):\n",
    "        return '\\n'.join((N*'{:3}').format(*[i%(N*N) for i in self.position[i:]]) for i in range(0, N*N, N))\n",
    "\n",
    "SOLVED = (1, 2, 3, 4, 5, 6, 7, 8, 9, 10, 11, 12, 13, 14, 15, 0)\n",
    "\n",
    "start = [1, 2, 3, 4, 5, 6, 7, 8, 13, 9, 11, 12, 10, 14, 15, 0]\n",
    "\n",
    "if search_resh(start):\n",
    "    print('Нерешаемая позиция')\n",
    "else:\n",
    "    # картеж\n",
    "    start = tuple(start)\n",
    "    p = Position(start, 0)\n",
    "    # очередь \n",
    "    candidates = PriorityQueue()\n",
    "    candidates.put(p)\n",
    "    # множество \n",
    "    visited = set([p])\n",
    "\n",
    "    came_from = {p.position: None}\n",
    "    \n",
    "    while p.position != SOLVED:\n",
    "        p = candidates.get()\n",
    "        for k in moves(p.position):\n",
    "            if k not in visited:\n",
    "                candidates.put(Position(k, p.start_distance + 1))\n",
    "                came_from[k] = p\n",
    "                visited.add(k)\n",
    "    path = []\n",
    "    prev = p\n",
    "    while p.position != start:\n",
    "        p = came_from[p.position]\n",
    "        number = p.position[prev.position.index(0)]\n",
    "        path.append(number)\n",
    "        prev = p\n",
    "    path.reverse()\n",
    "\n",
    "    print(path)"
   ]
  },
  {
   "cell_type": "markdown",
   "metadata": {},
   "source": [
    "# Вывод"
   ]
  },
  {
   "cell_type": "markdown",
   "metadata": {},
   "source": [
    "В ходе проделанной работы я ознакомился с алгоритмами работы поиска подстроки Кнута-Морриса-Пратта и упрощенный вариант алгоритма Бойера-Мура, а также написал алгоритм для поиска нерешаемых комбинаций пятнашек и поиска ходов решения для решаемых"
   ]
  },
  {
   "cell_type": "code",
   "execution_count": null,
   "metadata": {},
   "outputs": [],
   "source": []
  }
 ],
 "metadata": {
  "kernelspec": {
   "display_name": "Python 3",
   "language": "python",
   "name": "python3"
  },
  "language_info": {
   "codemirror_mode": {
    "name": "ipython",
    "version": 3
   },
   "file_extension": ".py",
   "mimetype": "text/x-python",
   "name": "python",
   "nbconvert_exporter": "python",
   "pygments_lexer": "ipython3",
   "version": "3.8.5"
  }
 },
 "nbformat": 4,
 "nbformat_minor": 4
}
