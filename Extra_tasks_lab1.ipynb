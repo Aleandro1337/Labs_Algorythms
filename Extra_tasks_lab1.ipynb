{
 "cells": [
  {
   "cell_type": "markdown",
   "metadata": {},
   "source": [
    "# Задача 1. «Треугольник с максимальным периметром»"
   ]
  },
  {
   "cell_type": "markdown",
   "metadata": {},
   "source": [
    "Массив A состоит из целых положительных чисел ­ длин отрезков. Составьте из трех отрезков такой треугольник, чтобы его периметр был максимально возможным. Если невозможно составить треугольник с положительной площадью функция возвращает 0."
   ]
  },
  {
   "cell_type": "code",
   "execution_count": 6,
   "metadata": {},
   "outputs": [
    {
     "name": "stdout",
     "output_type": "stream",
     "text": [
      "Введите длину массива5\n",
      "1\n",
      "4\n",
      "3\n",
      "2\n",
      "5\n",
      "Периметр= 9\n"
     ]
    }
   ],
   "source": [
    "def vstavka(arr, length):\n",
    "    for i in range(length):\n",
    "        key= arr[i]\n",
    "        j = i - 1\n",
    "        while j >= 0 and arr[j] > key:\n",
    "            arr[j + 1] = arr[j]\n",
    "            j -= 1\n",
    "        arr[j + 1] = key\n",
    "        \n",
    "def Perimetr(a, b, c):\n",
    "    if (a+b)>c and (a+c)>b and (b+c)>a:\n",
    "        return int(a+b+c)\n",
    "    else:\n",
    "        return 0\n",
    "length = int(input('Введите длину массива'))\n",
    "massive=[]\n",
    "for i in range(length):\n",
    "    massive.append(int(input()))\n",
    "vstavka(massive, length)\n",
    "for i in range(length-2):\n",
    "    if Perimetr(massive[i], massive[i+1], massive[i+2])>0:\n",
    "        print(\"Периметр=\", Perimetr(massive[i], massive[i+1], massive[i+2]))\n",
    "        break  "
   ]
  },
  {
   "cell_type": "markdown",
   "metadata": {},
   "source": [
    "# Задача 2. «Максимальное число»\n",
    "Дан массив неотрицательных целых чисел nums. Расположите их в таком порядке, чтобы вместе они образовали максимально возможное число."
   ]
  },
  {
   "cell_type": "code",
   "execution_count": 18,
   "metadata": {},
   "outputs": [
    {
     "name": "stdout",
     "output_type": "stream",
     "text": [
      "[8308, 8308, 830]\n",
      "[9, 90]\n",
      "[9, 50, 2, 1]\n",
      "[9, 999991, 98]\n"
     ]
    }
   ],
   "source": [
    "a = [8308,830,8308]\n",
    "b = [90,9]\n",
    "c = [50,2,1,9]\n",
    "d = [999991,9,98]\n",
    "def fractionalize(i):\n",
    "    divisor = 9\n",
    "    while divisor < i:\n",
    "        divisor = 10 * divisor + 9 \n",
    "\n",
    "    return i / divisor\n",
    "print(sorted(a, key=fractionalize, reverse=True))\n",
    "print(sorted(b, key=fractionalize, reverse=True))\n",
    "print(sorted(c, key=fractionalize, reverse=True))\n",
    "print(sorted(d, key=fractionalize, reverse=True))"
   ]
  },
  {
   "cell_type": "markdown",
   "metadata": {},
   "source": [
    "# Задача 3. «Сортировка диагоналей в матрице»\n",
    "Дана матрица mat размером m * n, значения  целочисленные. Напишите функцию, сортирующую каждую диагональ матрицы по возрастанию и возвращающую получившуюся матрицу."
   ]
  },
  {
   "cell_type": "code",
   "execution_count": 10,
   "metadata": {},
   "outputs": [
    {
     "name": "stdout",
     "output_type": "stream",
     "text": [
      "Введите m и n:5 5\n",
      "[[ 1  1  0 10  3]\n",
      " [ 6  6  2  7 16]\n",
      " [ 5 12  7  8 17]\n",
      " [ 7  9 14  8 18]\n",
      " [20 17 20 16 15]]\n",
      "\n",
      " ================ \n",
      "\n",
      "[[ 1  7  7  5  6]\n",
      " [ 2 10  8  7 11]\n",
      " [10  4 14  8 17]\n",
      " [ 0 10  7 16 14]\n",
      " [ 1 18 15 15 20]]\n"
     ]
    },
    {
     "name": "stderr",
     "output_type": "stream",
     "text": [
      "<ipython-input-10-e9f5b93665a5>:7: DeprecationWarning: This function is deprecated. Please call randint(0, 20 + 1) instead\n",
      "  mass = numpy.random.random_integers(0, 20, size=(m, n))\n"
     ]
    }
   ],
   "source": [
    "import numpy\n",
    "def per_mas(n, m):\n",
    "    for i in range(n):\n",
    "        for j in range(m):\n",
    "            yield i, j\n",
    "m, n= map(int, input('Введите m и n:').split(' '))\n",
    "mass = numpy.random.random_integers(0, 20, size=(m, n))\n",
    "print(massiv)\n",
    "for i, j in per_mas(len(mass[0]), len(mass)):\n",
    "    k=j\n",
    "    l=i\n",
    "    while k<len(mass[0]) and l<len(mass):\n",
    "        if mass[i][j]>mass[l][k]:\n",
    "            mass[i][j], mass[l][k]=mass[l][k], mass[i][j]\n",
    "        k=k+1\n",
    "        l=l+1\n",
    "            \n",
    "print(\"\\n ================ \\n\")\n",
    "print(mass)"
   ]
  },
  {
   "cell_type": "code",
   "execution_count": null,
   "metadata": {},
   "outputs": [],
   "source": []
  }
 ],
 "metadata": {
  "kernelspec": {
   "display_name": "Python 3",
   "language": "python",
   "name": "python3"
  },
  "language_info": {
   "codemirror_mode": {
    "name": "ipython",
    "version": 3
   },
   "file_extension": ".py",
   "mimetype": "text/x-python",
   "name": "python",
   "nbconvert_exporter": "python",
   "pygments_lexer": "ipython3",
   "version": "3.8.5"
  }
 },
 "nbformat": 4,
 "nbformat_minor": 4
}
