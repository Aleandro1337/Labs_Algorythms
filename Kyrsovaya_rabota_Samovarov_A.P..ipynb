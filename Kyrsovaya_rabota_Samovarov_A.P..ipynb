{
 "cells": [
  {
   "cell_type": "markdown",
   "metadata": {},
   "source": [
    "# Курсовая работа №1 по дисциплине СиАОД"
   ]
  },
  {
   "cell_type": "markdown",
   "metadata": {},
   "source": [
    "## Выполнил студент группы БСТ1903 Самоваров А.П."
   ]
  },
  {
   "cell_type": "markdown",
   "metadata": {},
   "source": [
    "### Задание 1 - Треугольник с максимальным периметром"
   ]
  },
  {
   "cell_type": "markdown",
   "metadata": {},
   "source": [
    "Массив A состоит из целых положительных чисел ­ длин отрезков. Составьте из трех отрезков такой треугольник, чтобы его периметр был максимально возможным. Если невозможно составить треугольник с положительной площадью функция возвращает 0."
   ]
  },
  {
   "cell_type": "code",
   "execution_count": 6,
   "metadata": {},
   "outputs": [
    {
     "name": "stdout",
     "output_type": "stream",
     "text": [
      "Введите длину массива5\n",
      "1\n",
      "4\n",
      "3\n",
      "2\n",
      "5\n",
      "Периметр= 9\n"
     ]
    }
   ],
   "source": [
    "def vstavka(arr, length):\n",
    "    for i in range(length):\n",
    "        key= arr[i]\n",
    "        j = i - 1\n",
    "        while j >= 0 and arr[j] > key:\n",
    "            arr[j + 1] = arr[j]\n",
    "            j -= 1\n",
    "        arr[j + 1] = key\n",
    "        \n",
    "def Perimetr(a, b, c):\n",
    "    if (a+b)>c and (a+c)>b and (b+c)>a:\n",
    "        return int(a+b+c)\n",
    "    else:\n",
    "        return 0\n",
    "length = int(input('Введите длину массива '))\n",
    "massive=[]\n",
    "for i in range(length):\n",
    "    massive.append(int(input()))\n",
    "vstavka(massive, length)\n",
    "for i in range(length-2):\n",
    "    if Perimetr(massive[i], massive[i+1], massive[i+2])>0:\n",
    "        print(\"Периметр=\", Perimetr(massive[i], massive[i+1], massive[i+2]))\n",
    "        break  "
   ]
  },
  {
   "cell_type": "markdown",
   "metadata": {},
   "source": [
    "## Задание 2 - Максимальное число\n",
    "Дан массив неотрицательных целых чисел nums. Расположите их в таком порядке, чтобы вместе они образовали максимально возможное число."
   ]
  },
  {
   "cell_type": "code",
   "execution_count": 11,
   "metadata": {},
   "outputs": [],
   "source": [
    "def generateArr_2(size):\n",
    "    if size<1: size=1\n",
    "    elif size>100: size=100\n",
    "    arr=[]\n",
    "    for i in range(size):\n",
    "        arr.append(random.randint(0,10**9))\n",
    "    return arr\n",
    " \n",
    "#Функция возвращает true, если первое число больше второго\n",
    "def value1_bigger(int_val1, int_val2):\n",
    "    val1=str(int_val1)\n",
    "    val2=str(int_val2)\n",
    "\n",
    "\n",
    "    if int(val1+val2)>int(val2+val1):\n",
    "        return True\n",
    "    else:\n",
    "        return False\n"
   ]
  },
  {
   "cell_type": "code",
   "execution_count": 13,
   "metadata": {},
   "outputs": [
    {
     "name": "stdout",
     "output_type": "stream",
     "text": [
      "Исходный массив:\n",
      "\n",
      " A = [8308, 830, 8308]\n",
      "\n",
      "Отсортированный массив:\n",
      "\n",
      " A = [8308, 8308, 830]\n",
      "\n",
      "Максимально возможное число:\n",
      "\n",
      " 83088308830\n"
     ]
    }
   ],
   "source": [
    "def exercise_2():\n",
    "    arr=[8308,830,8308]\n",
    "\n",
    "    print('Исходный массив:\\n\\n A =',arr)\n",
    "    max_val=\"\"\n",
    "\n",
    "    for i in range(len(arr)-1):\n",
    "        max_elem=arr[i]\n",
    "        max_index=i\n",
    "\n",
    "        for j in range(i+1, len(arr)):\n",
    "            if value1_bigger(arr[j],max_elem):\n",
    "                max_elem=arr[j]\n",
    "                max_index=j\n",
    "\n",
    "        arr[max_index],arr[i]=arr[i],arr[max_index]\n",
    "\n",
    "    for i in range(len(arr)):\n",
    "        max_val+=str(arr[i])\n",
    "\n",
    "    print(\"\\nОтсортированный массив:\\n\\n A =\",arr)\n",
    "    print(\"\\nМаксимально возможное число:\\n\\n\",max_val)\n",
    "exercise_2()"
   ]
  },
  {
   "cell_type": "markdown",
   "metadata": {},
   "source": [
    "## Задание 3 - Сортировка диагоналей в матрице\n",
    "Дана матрица mat размером m * n, значения  целочисленные. Напишите функцию, сортирующую каждую диагональ матрицы по возрастанию и возвращающую получившуюся матрицу."
   ]
  },
  {
   "cell_type": "code",
   "execution_count": 10,
   "metadata": {},
   "outputs": [
    {
     "name": "stdout",
     "output_type": "stream",
     "text": [
      "Введите m и n:5 5\n",
      "[[ 1  1  0 10  3]\n",
      " [ 6  6  2  7 16]\n",
      " [ 5 12  7  8 17]\n",
      " [ 7  9 14  8 18]\n",
      " [20 17 20 16 15]]\n",
      "\n",
      " ================ \n",
      "\n",
      "[[ 1  7  7  5  6]\n",
      " [ 2 10  8  7 11]\n",
      " [10  4 14  8 17]\n",
      " [ 0 10  7 16 14]\n",
      " [ 1 18 15 15 20]]\n"
     ]
    },
    {
     "name": "stderr",
     "output_type": "stream",
     "text": [
      "<ipython-input-10-e9f5b93665a5>:7: DeprecationWarning: This function is deprecated. Please call randint(0, 20 + 1) instead\n",
      "  mass = numpy.random.random_integers(0, 20, size=(m, n))\n"
     ]
    }
   ],
   "source": [
    "import numpy\n",
    "def per_mas(n, m):\n",
    "    for i in range(n):\n",
    "        for j in range(m):\n",
    "            yield i, j\n",
    "m, n= map(int, input('Введите m и n:').split(' '))\n",
    "mass = numpy.random.random_integers(0, 20, size=(m, n))\n",
    "print(massiv)\n",
    "for i, j in per_mas(len(mass[0]), len(mass)):\n",
    "    k=j\n",
    "    l=i\n",
    "    while k<len(mass[0]) and l<len(mass):\n",
    "        if mass[i][j]>mass[l][k]:\n",
    "            mass[i][j], mass[l][k]=mass[l][k], mass[i][j]\n",
    "        k=k+1\n",
    "        l=l+1\n",
    "            \n",
    "print(\"\\n ================ \\n\")\n",
    "print(mass)"
   ]
  },
  {
   "cell_type": "markdown",
   "metadata": {},
   "source": [
    "## Задания со строками"
   ]
  },
  {
   "cell_type": "markdown",
   "metadata": {},
   "source": [
    "### Задание 4"
   ]
  },
  {
   "cell_type": "markdown",
   "metadata": {},
   "source": [
    "Даны две строки: s1 и s2 с одинаковым размером, проверьте, может ли\n",
    "некоторая перестановка строки s1 “победить” некоторую перестановку\n",
    "строки s2 или наоборот.\n",
    "Строка x может “победить” строку y (обе имеют размер n), если x[i]> = y\n",
    "[i] (в алфавитном порядке) для всех i от 0 до n-1.\n"
   ]
  },
  {
   "cell_type": "code",
   "execution_count": 24,
   "metadata": {},
   "outputs": [
    {
     "data": {
      "text/plain": [
       "True"
      ]
     },
     "execution_count": 24,
     "metadata": {},
     "output_type": "execute_result"
    }
   ],
   "source": [
    "def zadacha_1(str1, str2):\n",
    "    st1=list(str1)\n",
    "    st2=list(str2)\n",
    "    l=len(st1)\n",
    "    st1.sort()\n",
    "    st2.sort()\n",
    "    i=0\n",
    "    if len(st1)!= len(st2):\n",
    "        return \"Not equal length of strings\"\n",
    "    while i<l and st1[i]==st2[i]:\n",
    "        i+=1\n",
    "    if i == l:\n",
    "        return True\n",
    "    if st1[0]>st2[0]:\n",
    "        for k in range(len(st1)):\n",
    "            if(st1[k]<st2[k]):\n",
    "                return False\n",
    "        return True\n",
    "    else:\n",
    "        for k in range(len(st2)):\n",
    "            if(st2[k]<st1[k]):\n",
    "                return False\n",
    "        return True\n",
    "\n",
    "\n",
    "zadacha_1('abechdgf','acdyquef')"
   ]
  },
  {
   "cell_type": "markdown",
   "metadata": {},
   "source": [
    "### Задание 5"
   ]
  },
  {
   "cell_type": "markdown",
   "metadata": {},
   "source": [
    "Дана строка s, вернуть самую длинную полиндромную подстроку в s"
   ]
  },
  {
   "cell_type": "code",
   "execution_count": 35,
   "metadata": {},
   "outputs": [
    {
     "name": "stdout",
     "output_type": "stream",
     "text": [
      "Введите строку: кусььсук\n",
      "Самая длинная палиндромная строка:\n",
      "кусььсук\n"
     ]
    }
   ],
   "source": [
    "def palindrome(x):\n",
    "    if len(x) <= 1: \n",
    "        return False\n",
    "    return x == x[::-1] \n",
    "def zadacha_2(s):\n",
    "    last = len(s)\n",
    "    lst = [] \n",
    "    for i in range(last):\n",
    "        for j in range(i, last): \n",
    "            b = s[i:j+1] \n",
    "            if palindrome(b):\n",
    "                lst.append(b)\n",
    "    return lst[0] \n",
    "st = input(\"Введите строку: \")\n",
    "print(\"Самая длинная палиндромная строка:\")\n",
    "print(zadacha_2(st))"
   ]
  },
  {
   "cell_type": "markdown",
   "metadata": {},
   "source": [
    "### Задача 6"
   ]
  },
  {
   "cell_type": "markdown",
   "metadata": {},
   "source": [
    "Вернуть количество отдельных непустых подстрок текста, которые могут\n",
    "быть записаны как конкатенация некоторой строки с самой собой (т.е. она\n",
    "может быть записана, как a + a, где a - некоторая строка).\n"
   ]
  },
  {
   "cell_type": "code",
   "execution_count": 45,
   "metadata": {},
   "outputs": [
    {
     "data": {
      "text/plain": [
       "(3, {'abcabc', 'bcabca', 'cabcab'})"
      ]
     },
     "execution_count": 45,
     "metadata": {},
     "output_type": "execute_result"
    }
   ],
   "source": [
    "def zadanie_3(str1):\n",
    "    rez=set()\n",
    "    for i in range(len(str1)-1):\n",
    "        k=i\n",
    "        for j in range(i+1, len(str1)):\n",
    "            l=j\n",
    "            m=j\n",
    "            while l<len(str1) and k<m and str1[k]==str1[l]:\n",
    "                k+=1\n",
    "                l+=1\n",
    "            if k==m:\n",
    "                rez.add(str1[i:l])\n",
    "                break\n",
    "    return len(rez), rez\n",
    "\n",
    "zadanie_3(\"abcabcabc\")"
   ]
  },
  {
   "cell_type": "markdown",
   "metadata": {},
   "source": [
    "### Задание 7 - Интервалы"
   ]
  },
  {
   "cell_type": "markdown",
   "metadata": {},
   "source": [
    "Дан массив отрезков intervals, в котором intervals[i] = [starti\n",
    ", endi\n",
    "], некоторые\n",
    "отрезки могут пересекаться. Напишите функцию, которая объединяет все пересекающиеся отрезки в один и возвращает новый массив непересекающихся отрезков."
   ]
  },
  {
   "cell_type": "code",
   "execution_count": 46,
   "metadata": {},
   "outputs": [
    {
     "data": {
      "text/plain": [
       "[[1, 5]]"
      ]
     },
     "execution_count": 46,
     "metadata": {},
     "output_type": "execute_result"
    }
   ],
   "source": [
    "def intervals(interv):\n",
    "    interv.sort()\n",
    "    i=0\n",
    "    while i <len(interv)-1:\n",
    "        if interv[i][1]>=interv[i+1][0]:\n",
    "            a=interv.pop(0)\n",
    "            b=interv.pop(0)\n",
    "            interv.insert(0, [a[0],b[1]])\n",
    "        else:\n",
    "            i+=1\n",
    "    return interv\n",
    "\n",
    "intervals( [[1,4],[4,5]])"
   ]
  },
  {
   "cell_type": "markdown",
   "metadata": {},
   "source": [
    "### Задание 8 - Монетки"
   ]
  },
  {
   "cell_type": "markdown",
   "metadata": {},
   "source": [
    "На столе стоят 3n стопок монет. Вы и ваши друзья Алиса и Боб забираете стопки монет по\n",
    "следующему алгоритму:\n",
    "1. Вы выбираете 3 стопки монет из оставшихся на столе.\n",
    "2. Алиса забирает себе стопку с максимальным количеством монет.\n",
    "3. Вы забираете одну из двух оставшихся стопок.\n",
    "4. Боб забирает последнюю стопку.\n",
    "5. Если еще остались стопки, то действия повторяются с первого шага"
   ]
  },
  {
   "cell_type": "code",
   "execution_count": 37,
   "metadata": {},
   "outputs": [
    {
     "data": {
      "text/plain": [
       "18"
      ]
     },
     "execution_count": 37,
     "metadata": {},
     "output_type": "execute_result"
    }
   ],
   "source": [
    "def moneti(arr):\n",
    "    arr.sort()\n",
    "    a=len(arr)//3\n",
    "    s=0\n",
    "    while a<len(arr):\n",
    "        s=s+arr[a]\n",
    "        a=a+2\n",
    "    return (s)\n",
    "\n",
    "moneti ( [9,8,7,6,5,1,2,3,4])"
   ]
  },
  {
   "cell_type": "markdown",
   "metadata": {},
   "source": [
    "## Задание 9 - Шарики и стрелы"
   ]
  },
  {
   "cell_type": "markdown",
   "metadata": {},
   "source": [
    "Некоторые сферические шарики распределены по двухмерному пространству. Для каждого шарика даны xкоординаты начала и конца его горизонтального диаметра. Так как пространство двумерно, то yкоординаты не имеют значения в данной задаче. Координата xstart всегда меньше xend. Стрелу можно выстрелить строго вертикально (вдоль yоси) из разных точек xоси. Шарик с координатами xstart и xend уничтожается стрелой, если она была выпущена из такой позиции x, что xstart ⩽ x ⩽ xend. Когда стрела выпущена, она летит в пространстве бесконечное время (уничтожая все шарики на пути). Дан массив points, где points[i] = [xstart, xend]. Напишите функцию, возвращающую минимальное количество стрел, которые нужно выпустить, чтобы уничтожить все шарики."
   ]
  },
  {
   "cell_type": "code",
   "execution_count": 43,
   "metadata": {},
   "outputs": [
    {
     "name": "stdout",
     "output_type": "stream",
     "text": [
      "[[1, 10], [3, 9], [4, 11], [6, 7], [6, 9], [8, 12], [9, 12]]\n",
      "2\n"
     ]
    }
   ],
   "source": [
    "class sh:\n",
    "    def __init__(self, mass):\n",
    "        self.mass=mass\n",
    "        self.count=1\n",
    "    \n",
    "    def search(self):\n",
    "        if len(self.mass)==0:\n",
    "            self.count=0\n",
    "        else:\n",
    "            m=0\n",
    "            for i in range(len(self.mass)):\n",
    "                self.mass.sort()\n",
    "            print(self.mass)\n",
    "            for i in range(len(self.mass)-1):\n",
    "                if self.mass[m][1]<self.mass[i+1][0]:\n",
    "                    self.count=self.count+1\n",
    "                    m=i+1\n",
    "                elif self.mass[m][0]<=self.mass[i+1][0] and self.mass[m][1]>=self.mass[i+1][1]:\n",
    "                       m=i+1\n",
    "                    \n",
    "        return self.count\n",
    "            \n",
    "mass=[[9,12],[1,10],[4,11],[8,12],[3,9],[6,9],[6,7]]           \n",
    "a=sh(mass)\n",
    "print(a.search())"
   ]
  },
  {
   "cell_type": "markdown",
   "metadata": {},
   "source": [
    "# Вывод"
   ]
  },
  {
   "cell_type": "markdown",
   "metadata": {},
   "source": [
    "В ходе проделанной работы были выполнены задачи на нахождение максимального периметра, максимального числа, сортировки диагоналей, 3 задачи по работе со строками, монетки, интервалы а также шарики и стрелы"
   ]
  },
  {
   "cell_type": "code",
   "execution_count": null,
   "metadata": {},
   "outputs": [],
   "source": []
  }
 ],
 "metadata": {
  "kernelspec": {
   "display_name": "Python 3",
   "language": "python",
   "name": "python3"
  },
  "language_info": {
   "codemirror_mode": {
    "name": "ipython",
    "version": 3
   },
   "file_extension": ".py",
   "mimetype": "text/x-python",
   "name": "python",
   "nbconvert_exporter": "python",
   "pygments_lexer": "ipython3",
   "version": "3.8.5"
  }
 },
 "nbformat": 4,
 "nbformat_minor": 4
}
