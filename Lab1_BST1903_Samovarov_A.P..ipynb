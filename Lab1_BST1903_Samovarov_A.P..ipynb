{
 "cells": [
  {
   "cell_type": "code",
   "execution_count": 1,
   "metadata": {},
   "outputs": [],
   "source": [
    "#Лабораторная работа №1\n",
    "    ##Выполнил студент группы БСТ1903\n",
    "    ###Задание №1"
   ]
  },
  {
   "cell_type": "code",
   "execution_count": 2,
   "metadata": {},
   "outputs": [
    {
     "name": "stdout",
     "output_type": "stream",
     "text": [
      "Hello, world!\n"
     ]
    }
   ],
   "source": [
    "print(\"Hello, world!\")"
   ]
  },
  {
   "cell_type": "code",
   "execution_count": 3,
   "metadata": {},
   "outputs": [],
   "source": [
    "###Задание №2\n",
    "    #Написать генератор случайных матриц(многомерных)"
   ]
  },
  {
   "cell_type": "code",
   "execution_count": 4,
   "metadata": {},
   "outputs": [],
   "source": [
    "import random\n",
    "def make_random_massive(m, n, min_limit, max_limit):\n",
    "        return[[random.randint(min_limit, max_limit) for _ in range (n)] for _ in range(m)]"
   ]
  },
  {
   "cell_type": "code",
   "execution_count": 5,
   "metadata": {},
   "outputs": [
    {
     "name": "stdout",
     "output_type": "stream",
     "text": [
      "[63, 635, 226, 858, 323]\n",
      "[679, 827, 803, 576, 568]\n",
      "[899, 171, 312, -182, 830]\n",
      "[282, 925, 666, 71, 797]\n",
      "[581, 684, 933, 636, 392]\n"
     ]
    }
   ],
   "source": [
    "A = make_random_massive(5,5,-250,1012)\n",
    "for i in range (5):\n",
    "    print(A[i])"
   ]
  },
  {
   "cell_type": "code",
   "execution_count": 6,
   "metadata": {},
   "outputs": [],
   "source": [
    "###Задание №3\n",
    "    #Реализовать методы сортировки строк числовой матрицы методом:\n",
    "    #вставки, выбором, обменом, Шелла, турнирной, быстрой сортировкой, пирамидальной"
   ]
  },
  {
   "cell_type": "code",
   "execution_count": 7,
   "metadata": {},
   "outputs": [],
   "source": [
    "#Вставка\n",
    "def vstavka(arr):\n",
    "    for i in range(1, len(arr)):\n",
    "        key = arr[i]\n",
    "        j = i-1\n",
    "        while j >=0 and key < arr[j] :\n",
    "            arr[j+1] = arr[j]\n",
    "            j -= 1\n",
    "        arr[j+1] = key"
   ]
  },
  {
   "cell_type": "code",
   "execution_count": 8,
   "metadata": {},
   "outputs": [
    {
     "name": "stdout",
     "output_type": "stream",
     "text": [
      "[397, 303, 186, 328, 971]\n",
      "[647, 24, 217, -237, -60]\n",
      "[448, 747, -143, 407, 811]\n",
      "[736, 294, -146, 537, 987]\n",
      "[-6, 384, -115, 231, 66]\n",
      " \n",
      "[-6, 384, -115, 231, 66]\n",
      "[397, 303, 186, 328, 971]\n",
      "[448, 747, -143, 407, 811]\n",
      "[647, 24, 217, -237, -60]\n",
      "[736, 294, -146, 537, 987]\n"
     ]
    }
   ],
   "source": [
    "A = make_random_massive(5,5,-250,1012)\n",
    "for i in range (5):\n",
    "    print(A[i])\n",
    "print(\" \")\n",
    "vstavka(A)\n",
    "for i in range (5):\n",
    "    print(A[i])"
   ]
  },
  {
   "cell_type": "code",
   "execution_count": 34,
   "metadata": {},
   "outputs": [],
   "source": [
    "#Выбор\n",
    "def vubor(array):\n",
    "    for i in range(len(array) - 1):\n",
    "        m = i\n",
    "        j = i + 1\n",
    "        while j < len(array):\n",
    "            if array[j] < array[m]:\n",
    "                m = j\n",
    "            j = j + 1\n",
    "        array[i], array[m] = array[m], array[i]"
   ]
  },
  {
   "cell_type": "code",
   "execution_count": 35,
   "metadata": {},
   "outputs": [
    {
     "name": "stdout",
     "output_type": "stream",
     "text": [
      "[-73, 128, 291, 671, -171]\n",
      "[618, 570, 522, -190, 415]\n",
      "[-186, 826, 784, 445, 56]\n",
      "[681, 951, 371, 218, 278]\n",
      "[367, -55, -131, 87, -116]\n",
      " \n",
      "[-186, 826, 784, 445, 56]\n",
      "[-73, 128, 291, 671, -171]\n",
      "[367, -55, -131, 87, -116]\n",
      "[618, 570, 522, -190, 415]\n",
      "[681, 951, 371, 218, 278]\n"
     ]
    }
   ],
   "source": [
    "A = make_random_massive(5,5,-250,1012)\n",
    "for i in range (5):\n",
    "    print(A[i])\n",
    "print(\" \")\n",
    "vubor(A)\n",
    "for i in range (5):\n",
    "    print(A[i])"
   ]
  },
  {
   "cell_type": "code",
   "execution_count": 11,
   "metadata": {},
   "outputs": [],
   "source": [
    "#обмен\n",
    "def obmen(arr):\n",
    "    for i in range(len(arr)):\n",
    "        for j in range(0, len(arr)-i-1): \n",
    "            if arr[j] > arr[j+1] : \n",
    "                arr[j], arr[j+1] = arr[j+1], arr[j]"
   ]
  },
  {
   "cell_type": "code",
   "execution_count": 12,
   "metadata": {},
   "outputs": [
    {
     "name": "stdout",
     "output_type": "stream",
     "text": [
      "[425, -238, 96, 1001, 527]\n",
      "[780, 466, -69, 470, 279]\n",
      "[36, 721, 921, 195, 294]\n",
      "[639, 817, -38, 361, 989]\n",
      "[857, 551, 718, 359, 251]\n",
      " \n",
      "[36, 721, 921, 195, 294]\n",
      "[425, -238, 96, 1001, 527]\n",
      "[639, 817, -38, 361, 989]\n",
      "[780, 466, -69, 470, 279]\n",
      "[857, 551, 718, 359, 251]\n"
     ]
    }
   ],
   "source": [
    "A = make_random_massive(5,5,-250,1012)\n",
    "for i in range (5):\n",
    "    print(A[i])\n",
    "print(\" \")\n",
    "obmen(A)\n",
    "for i in range (5):\n",
    "    print(A[i])"
   ]
  },
  {
   "cell_type": "code",
   "execution_count": 13,
   "metadata": {},
   "outputs": [],
   "source": [
    "#Шелл\n",
    "def shell(arr):\n",
    "    last_index = len(arr) - 1\n",
    "    step = len(arr) // 2\n",
    "    while step > 0:\n",
    "        for i in range(step, last_index + 1, 1):\n",
    "            j = i\n",
    "            delta = j - step\n",
    "            while delta >= 0 and arr[delta] > arr[j]:\n",
    "                arr[delta], arr[j] = arr[j], arr[delta]\n",
    "                j = delta\n",
    "                delta = j - step\n",
    "        step //= 2"
   ]
  },
  {
   "cell_type": "code",
   "execution_count": 14,
   "metadata": {},
   "outputs": [
    {
     "name": "stdout",
     "output_type": "stream",
     "text": [
      "[334, 54, 374, 798, 820]\n",
      "[360, 586, 565, 743, 669]\n",
      "[967, 911, 760, 497, 692]\n",
      "[294, 790, 478, 68, 631]\n",
      "[-173, -29, 680, 265, 512]\n",
      " \n",
      "[-173, -29, 680, 265, 512]\n",
      "[294, 790, 478, 68, 631]\n",
      "[334, 54, 374, 798, 820]\n",
      "[360, 586, 565, 743, 669]\n",
      "[967, 911, 760, 497, 692]\n"
     ]
    }
   ],
   "source": [
    "A = make_random_massive(5,5,-250,1012)\n",
    "for i in range (5):\n",
    "    print(A[i])\n",
    "print(\" \")\n",
    "shell(A)\n",
    "for i in range (5):\n",
    "    print(A[i])"
   ]
  },
  {
   "cell_type": "code",
   "execution_count": 15,
   "metadata": {},
   "outputs": [],
   "source": [
    "#Быстрая сортировка\n",
    "def bustraya(arr, fst=0, lst=None):\n",
    "    if lst == None:\n",
    "        lst = len(arr) - 1  \n",
    "    if fst >= lst:\n",
    "        return\n",
    "    i, j = fst, lst\n",
    "    pivot = arr[(lst + fst) // 2]\n",
    " \n",
    "    while i <= j:\n",
    "        while arr[i] < pivot: i += 1\n",
    "        while arr[j] > pivot: j -= 1\n",
    "        if i <= j:\n",
    "            arr[i], arr[j] = arr[j], arr[i]\n",
    "            i, j = i + 1, j - 1\n",
    "            \n",
    "    bustraya(arr, fst, j)\n",
    "    bustraya(arr, i, lst)"
   ]
  },
  {
   "cell_type": "code",
   "execution_count": 16,
   "metadata": {},
   "outputs": [
    {
     "name": "stdout",
     "output_type": "stream",
     "text": [
      "[334, 577, 102, 122, 679]\n",
      "[760, 415, -63, 199, 15]\n",
      "[519, 916, -13, 18, 81]\n",
      "[924, 181, 39, 280, -22]\n",
      "[575, 480, 667, 338, -211]\n",
      " \n",
      "[334, 577, 102, 122, 679]\n",
      "[519, 916, -13, 18, 81]\n",
      "[575, 480, 667, 338, -211]\n",
      "[760, 415, -63, 199, 15]\n",
      "[924, 181, 39, 280, -22]\n"
     ]
    }
   ],
   "source": [
    "A = make_random_massive(5,5,-250,1012)\n",
    "for i in range (5):\n",
    "    print(A[i])\n",
    "print(\" \")\n",
    "bustraya(A)\n",
    "for i in range (5):\n",
    "    print(A[i])"
   ]
  },
  {
   "cell_type": "code",
   "execution_count": 17,
   "metadata": {},
   "outputs": [],
   "source": [
    "#Турнирная\n",
    "def tournirnaya(arr):\n",
    "    tree = [None] * 2 * (len(arr) + len(arr) % 2)\n",
    "    index = len(tree) - len(arr) - len(arr) % 2      #Создание дерева\n",
    "    \n",
    "    for i, v in enumerate(arr):\n",
    "        tree[index + i] = (i, v)      #Заполнение дерева\n",
    "    \n",
    "    for j in range(len(arr)):\n",
    "        n = len(arr)\n",
    "        index = len(tree) - len(arr) - len(arr) % 2\n",
    "        while index > -1:\n",
    "            n = (n + 1) // 2\n",
    "            for i in range(n):\n",
    "                i = max(index + i * 2, 1) \n",
    "                if tree[i] != None and tree[i + 1] != None:\n",
    "                    if tree[i][1] < tree[i + 1][1]:\n",
    "                        tree[i // 2] = tree[i]               #работает по аналогии с турнирной сеткой\n",
    "                    else:\n",
    "                        tree[i // 2] = tree[i + 1]\n",
    "                else:\n",
    "                    tree[i // 2] = tree[i] if tree[i] != None else tree[i + 1]\n",
    "            index -= n\n",
    "\n",
    "        index, x = tree[0]\n",
    "        arr[j] = x\n",
    "        tree[len(tree) - len(arr) - len(arr) % 2 + index] = None"
   ]
  },
  {
   "cell_type": "code",
   "execution_count": 18,
   "metadata": {},
   "outputs": [
    {
     "name": "stdout",
     "output_type": "stream",
     "text": [
      "[866, 552, -16, 742, 884]\n",
      "[-217, 568, 435, 943, 667]\n",
      "[53, 401, 975, 317, 729]\n",
      "[236, 774, 718, 88, 1012]\n",
      "[25, -67, 784, -49, 705]\n",
      " \n",
      "[-217, 568, 435, 943, 667]\n",
      "[25, -67, 784, -49, 705]\n",
      "[53, 401, 975, 317, 729]\n",
      "[236, 774, 718, 88, 1012]\n",
      "[866, 552, -16, 742, 884]\n"
     ]
    }
   ],
   "source": [
    "import time\n",
    "A = make_random_massive(5,5,-250,1012)\n",
    "for i in range (5):\n",
    "    print(A[i])\n",
    "print(\" \")\n",
    "tournirnaya(A)\n",
    "for i in range (5):\n",
    "    print(A[i])\n"
   ]
  },
  {
   "cell_type": "code",
   "execution_count": 19,
   "metadata": {},
   "outputs": [],
   "source": [
    "# Пирамидальная\n",
    "\n",
    "# Процедура для преобразования в двоичную кучу поддерева с корневым узлом i, что является индексом в arr[]. n - размер кучи\n",
    "def heapify(arr, n, i):\n",
    "    largest = i #Корень\n",
    "    l = 2 * i + 1   # left = 2*i + 1\n",
    "    r = 2 * i + 2   # right = 2*i + 2\n",
    "\n",
    "    # Проверяем существует ли левый дочерний элемент больший, чем корень\n",
    "\n",
    "    if l < n and arr[i] < arr[l]:\n",
    "        largest = l\n",
    "\n",
    "    # Проверяем существует ли правый дочерний элемент больший, чем корень\n",
    "\n",
    "    if r < n and arr[largest] < arr[r]:\n",
    "        largest = r\n",
    "\n",
    "    # Заменяем корень, если нужно\n",
    "    if largest != i:\n",
    "        arr[i], arr[largest] = arr[largest], arr[i] # свап\n",
    "\n",
    "        # Применяем heapify к корню.\n",
    "        heapify(arr, n, largest)\n",
    "\n",
    "# Основная функция для сортировки массива заданного размера\n",
    "def pyramid(arr):\n",
    "    n = len(arr)\n",
    "\n",
    "    # Построение max-heap.\n",
    "    for i in range(n, -1, -1):\n",
    "        heapify(arr, n, i)\n",
    "\n",
    "    # Один за другим извлекаем элементы\n",
    "    for i in range(n-1, 0, -1):\n",
    "        arr[i], arr[0] = arr[0], arr[i] # свап \n",
    "        heapify(arr, i, 0)"
   ]
  },
  {
   "cell_type": "code",
   "execution_count": 20,
   "metadata": {},
   "outputs": [
    {
     "name": "stdout",
     "output_type": "stream",
     "text": [
      "[189, -167, 487, 36, 618]\n",
      "[-20, 363, 33, 150, -155]\n",
      "[-144, 642, 326, 123, 158]\n",
      "[627, 481, 602, 705, 318]\n",
      "[410, -144, 188, 171, -36]\n",
      " \n",
      "[-144, 642, 326, 123, 158]\n",
      "[-20, 363, 33, 150, -155]\n",
      "[189, -167, 487, 36, 618]\n",
      "[410, -144, 188, 171, -36]\n",
      "[627, 481, 602, 705, 318]\n"
     ]
    }
   ],
   "source": [
    "A = make_random_massive(5,5,-250,1012)\n",
    "for i in range (5):\n",
    "    print(A[i])\n",
    "print(\" \")\n",
    "B = pyramid(A)\n",
    "for i in range (5):\n",
    "    print(A[i])"
   ]
  },
  {
   "cell_type": "code",
   "execution_count": 29,
   "metadata": {},
   "outputs": [
    {
     "name": "stdout",
     "output_type": "stream",
     "text": [
      "Турнирная: 0.005161000000043714 seconds\n",
      "Пирамидальная: 0.0007193000000143002 seconds\n",
      "Быстрая: 0.00032050000004346657 seconds\n",
      "Вставка: 8.270000000720756e-05 seconds\n",
      "Шелл: 8.559999992030498e-05 seconds\n",
      "Обмен: 0.0002478999999766529 seconds\n",
      "Выбор: 0.0001643000000512984 seconds\n",
      "Встроенная: 4.520000004504254e-05 seconds\n"
     ]
    }
   ],
   "source": [
    "import time\n",
    "from time import perf_counter\n",
    "A = make_random_massive(50,50,-250,1012)\n",
    "copy_1 = A\n",
    "t1_start = perf_counter()\n",
    "B = tournirnaya(copy_1)\n",
    "t1_stop = perf_counter()\n",
    "print(\"Турнирная: %s seconds\" % (t1_stop-t1_start))\n",
    "copy_1 = A\n",
    "t1_start = perf_counter()\n",
    "C = pyramid(copy_1)\n",
    "t1_stop = perf_counter()\n",
    "print(\"Пирамидальная: %s seconds\" % (t1_stop-t1_start))\n",
    "copy_1 = A\n",
    "t1_start = perf_counter()\n",
    "D = bustraya(copy_1)\n",
    "t1_stop = perf_counter()\n",
    "print(\"Быстрая: %s seconds\" % (t1_stop-t1_start))\n",
    "copy_1 = A\n",
    "t1_start = perf_counter()\n",
    "E = vstavka(copy_1)\n",
    "t1_stop = perf_counter()\n",
    "print(\"Вставка: %s seconds\" % (t1_stop-t1_start))\n",
    "copy_1 = A\n",
    "t1_start = perf_counter()\n",
    "C = shell(copy_1)\n",
    "t1_stop = perf_counter()\n",
    "print(\"Шелл: %s seconds\" % (t1_stop-t1_start))\n",
    "copy_1 = A\n",
    "t1_start = perf_counter()\n",
    "D = obmen(copy_1)\n",
    "t1_stop = perf_counter()\n",
    "print(\"Обмен: %s seconds\" % (t1_stop-t1_start))\n",
    "copy_1 = A\n",
    "t1_start = perf_counter()\n",
    "E = vubor(copy_1)\n",
    "t1_stop = perf_counter()\n",
    "print(\"Выбор: %s seconds\" % (t1_stop-t1_start))\n",
    "copy_1 = A\n",
    "t1_start = perf_counter()\n",
    "sorted(copy_1)\n",
    "t1_stop = perf_counter()\n",
    "print(\"Встроенная сортировка: %s seconds\" % (t1_stop-t1_start))"
   ]
  },
  {
   "cell_type": "code",
   "execution_count": null,
   "metadata": {},
   "outputs": [],
   "source": []
  }
 ],
 "metadata": {
  "kernelspec": {
   "display_name": "Python 3",
   "language": "python",
   "name": "python3"
  },
  "language_info": {
   "codemirror_mode": {
    "name": "ipython",
    "version": 3
   },
   "file_extension": ".py",
   "mimetype": "text/x-python",
   "name": "python",
   "nbconvert_exporter": "python",
   "pygments_lexer": "ipython3",
   "version": "3.8.5"
  }
 },
 "nbformat": 4,
 "nbformat_minor": 4
}
