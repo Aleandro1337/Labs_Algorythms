{
 "cells": [
  {
   "cell_type": "markdown",
   "metadata": {},
   "source": [
    "# Лабораторная работа №1"
   ]
  },
  {
   "cell_type": "markdown",
   "metadata": {},
   "source": [
    "Выполнил студент группы БСТ1903 Самоваров А.П."
   ]
  },
  {
   "cell_type": "markdown",
   "metadata": {},
   "source": [
    "Задание №1"
   ]
  },
  {
   "cell_type": "code",
   "execution_count": 2,
   "metadata": {},
   "outputs": [
    {
     "name": "stdout",
     "output_type": "stream",
     "text": [
      "Hello, world!\n"
     ]
    }
   ],
   "source": [
    "print(\"Hello, world!\")"
   ]
  },
  {
   "cell_type": "markdown",
   "metadata": {},
   "source": [
    "Задание №2\n",
    "    Написать генератор случайных матриц(многомерных)"
   ]
  },
  {
   "cell_type": "code",
   "execution_count": 6,
   "metadata": {},
   "outputs": [],
   "source": [
    "import random\n",
    "def make_random_massive(m, n, min_limit, max_limit):\n",
    "        return[[random.randint(min_limit, max_limit) for _ in range (n)] for _ in range(m)]"
   ]
  },
  {
   "cell_type": "code",
   "execution_count": 5,
   "metadata": {},
   "outputs": [
    {
     "name": "stdout",
     "output_type": "stream",
     "text": [
      "[63, 635, 226, 858, 323]\n",
      "[679, 827, 803, 576, 568]\n",
      "[899, 171, 312, -182, 830]\n",
      "[282, 925, 666, 71, 797]\n",
      "[581, 684, 933, 636, 392]\n"
     ]
    }
   ],
   "source": [
    "A = make_random_massive(5,5,-250,1012)\n",
    "for i in range (5):\n",
    "    print(A[i])"
   ]
  },
  {
   "cell_type": "markdown",
   "metadata": {},
   "source": [
    "Задание №3"
   ]
  },
  {
   "cell_type": "markdown",
   "metadata": {},
   "source": [
    "Реализовать методы сортировки строк числовой матрицы методом:\n",
    "    вставки, выбором, обменом, Шелла, турнирной, быстрой сортировкой, пирамидальной"
   ]
  },
  {
   "cell_type": "code",
   "execution_count": 12,
   "metadata": {},
   "outputs": [],
   "source": [
    "#Вставка\n",
    "def vstavka(arr):\n",
    "    for i in range(1, len(arr)):\n",
    "        key= arr[i]\n",
    "        j = i - 1\n",
    "        while j >= 0 and arr[j] > key:\n",
    "            arr[j + 1] = arr[j]\n",
    "            j -= 1\n",
    "        arr[j + 1] = key"
   ]
  },
  {
   "cell_type": "code",
   "execution_count": 16,
   "metadata": {},
   "outputs": [
    {
     "name": "stdout",
     "output_type": "stream",
     "text": [
      "Исходный массив:\n",
      "[343, 206, -79, 613, 168, -179, 58, 918, 671, -166, 274, 845, 888, -178, -105, 432, 375, 977, 539, 78]\n",
      "Результирующий массив\n",
      "[-179, -178, -166, -105, -79, 58, 78, 168, 206, 274, 343, 375, 432, 539, 613, 671, 845, 888, 918, 977]\n"
     ]
    }
   ],
   "source": [
    "from random import randint\n",
    "n = 20\n",
    "min_lim = -250\n",
    "max_lim = 1012\n",
    "a=[randint(min_lim,max_lim) for i in range(n)]\n",
    "print (\"Исходный массив:\")\n",
    "print(a)\n",
    "print(\"Результирующий массив\")\n",
    "vstavka(a)\n",
    "print(a)"
   ]
  },
  {
   "cell_type": "code",
   "execution_count": 17,
   "metadata": {},
   "outputs": [],
   "source": [
    "#Выбор\n",
    "def vubor(array):\n",
    "    for i in range(len(array) - 1):\n",
    "        m = i\n",
    "        j = i + 1\n",
    "        while j < len(array):\n",
    "            if array[j] < array[m]:\n",
    "                m = j\n",
    "            j = j + 1\n",
    "        array[i], array[m] = array[m], array[i]"
   ]
  },
  {
   "cell_type": "code",
   "execution_count": 18,
   "metadata": {},
   "outputs": [
    {
     "name": "stdout",
     "output_type": "stream",
     "text": [
      "Исходный массив:\n",
      "[924, 535, 989, 203, 979, -112, 413, 19, 303, 492, 1002, 61, -65, 222, 878, 576, 241, -134, 885, 236]\n",
      "Результирующий массив\n",
      "[-134, -112, -65, 19, 61, 203, 222, 236, 241, 303, 413, 492, 535, 576, 878, 885, 924, 979, 989, 1002]\n"
     ]
    }
   ],
   "source": [
    "from random import randint\n",
    "n = 20\n",
    "min_lim = -250\n",
    "max_lim = 1012\n",
    "a=[randint(min_lim,max_lim) for i in range(n)]\n",
    "print (\"Исходный массив:\")\n",
    "print(a)\n",
    "print(\"Результирующий массив\")\n",
    "vubor(a)\n",
    "print(a)"
   ]
  },
  {
   "cell_type": "code",
   "execution_count": 19,
   "metadata": {},
   "outputs": [],
   "source": [
    "#обмен\n",
    "def obmen(arr):\n",
    "    for i in range(len(arr)):\n",
    "        for j in range(0, len(arr)-i-1): \n",
    "            if arr[j] > arr[j+1] : \n",
    "                arr[j], arr[j+1] = arr[j+1], arr[j]"
   ]
  },
  {
   "cell_type": "code",
   "execution_count": 20,
   "metadata": {},
   "outputs": [
    {
     "name": "stdout",
     "output_type": "stream",
     "text": [
      "Исходный массив:\n",
      "[466, -56, 512, 433, -215, -199, -192, 884, 395, 16, 424, 702, -26, 691, 394, 936, 741, 996, 910, 485]\n",
      "Результирующий массив\n",
      "[466, -56, 512, 433, -215, -199, -192, 884, 395, 16, 424, 702, -26, 691, 394, 936, 741, 996, 910, 485]\n"
     ]
    }
   ],
   "source": [
    "from random import randint\n",
    "n = 20\n",
    "min_lim = -250\n",
    "max_lim = 1012\n",
    "a=[randint(min_lim,max_lim) for i in range(n)]\n",
    "print (\"Исходный массив:\")\n",
    "print(a)\n",
    "print(\"Результирующий массив\")\n",
    "obmen(A)\n",
    "print(a)"
   ]
  },
  {
   "cell_type": "code",
   "execution_count": 33,
   "metadata": {},
   "outputs": [],
   "source": [
    "#Шелл\n",
    "def shell(arr):\n",
    "    last_index = len(arr) - 1\n",
    "    step = len(arr) // 2\n",
    "    while step > 0:\n",
    "        for i in range(step, last_index + 1, 1):\n",
    "            j = i\n",
    "            delta = j - step\n",
    "            while delta >= 0 and arr[delta] > arr[j]:\n",
    "                arr[delta], arr[j] = arr[j], arr[delta]\n",
    "                j = delta\n",
    "                delta = j - step\n",
    "        step //= 2"
   ]
  },
  {
   "cell_type": "code",
   "execution_count": 34,
   "metadata": {},
   "outputs": [
    {
     "name": "stdout",
     "output_type": "stream",
     "text": [
      "Исходный массив:\n",
      "[318, 749, 407, 415, 820, 52, 293, 345, 851, -115, -92, 190, 997, 465, 543, 144, 526, 825, 779, 983]\n",
      "Результирующий массив\n",
      "[-115, -92, 52, 144, 190, 293, 318, 345, 407, 415, 465, 526, 543, 749, 779, 820, 825, 851, 983, 997]\n"
     ]
    }
   ],
   "source": [
    "from random import randint\n",
    "n = 20\n",
    "min_lim = -250\n",
    "max_lim = 1012\n",
    "a=[randint(min_lim,max_lim) for i in range(n)]\n",
    "print (\"Исходный массив:\")\n",
    "print(a)\n",
    "print(\"Результирующий массив\")\n",
    "shell(a)\n",
    "print(a)"
   ]
  },
  {
   "cell_type": "code",
   "execution_count": 21,
   "metadata": {},
   "outputs": [],
   "source": [
    "#Быстрая сортировка\n",
    "def bustraya(arr, fst=0, lst=None):\n",
    "    if lst == None:\n",
    "        lst = len(arr) - 1  \n",
    "    if fst >= lst:\n",
    "        return\n",
    "    i, j = fst, lst\n",
    "    pivot = arr[(lst + fst) // 2]\n",
    " \n",
    "    while i <= j:\n",
    "        while arr[i] < pivot: i += 1\n",
    "        while arr[j] > pivot: j -= 1\n",
    "        if i <= j:\n",
    "            arr[i], arr[j] = arr[j], arr[i]\n",
    "            i, j = i + 1, j - 1\n",
    "            \n",
    "    bustraya(arr, fst, j)\n",
    "    bustraya(arr, i, lst)"
   ]
  },
  {
   "cell_type": "code",
   "execution_count": 22,
   "metadata": {},
   "outputs": [
    {
     "name": "stdout",
     "output_type": "stream",
     "text": [
      "Исходный массив:\n",
      "[776, 248, 944, 955, 322, 280, 689, -87, 688, -45, 360, 726, 677, 610, 107, 740, 48, 463, 849, 259]\n",
      "Результирующий массив\n",
      "[-87, -45, 48, 107, 248, 259, 280, 322, 360, 463, 610, 677, 688, 689, 726, 740, 776, 849, 944, 955]\n"
     ]
    }
   ],
   "source": [
    "from random import randint\n",
    "n = 20\n",
    "min_lim = -250\n",
    "max_lim = 1012\n",
    "a=[randint(min_lim,max_lim) for i in range(n)]\n",
    "print (\"Исходный массив:\")\n",
    "print(a)\n",
    "print(\"Результирующий массив\")\n",
    "bustraya(a)\n",
    "print(a)"
   ]
  },
  {
   "cell_type": "code",
   "execution_count": 23,
   "metadata": {},
   "outputs": [],
   "source": [
    "#Турнирная\n",
    "def tournirnaya(arr):\n",
    "    tree = [None] * 2 * (len(arr) + len(arr) % 2)\n",
    "    index = len(tree) - len(arr) - len(arr) % 2      #Создание дерева\n",
    "    \n",
    "    for i, v in enumerate(arr):\n",
    "        tree[index + i] = (i, v)      #Заполнение дерева\n",
    "    \n",
    "    for j in range(len(arr)):\n",
    "        n = len(arr)\n",
    "        index = len(tree) - len(arr) - len(arr) % 2\n",
    "        while index > -1:\n",
    "            n = (n + 1) // 2\n",
    "            for i in range(n):\n",
    "                i = max(index + i * 2, 1) \n",
    "                if tree[i] != None and tree[i + 1] != None:\n",
    "                    if tree[i][1] < tree[i + 1][1]:\n",
    "                        tree[i // 2] = tree[i]               #работает по аналогии с турнирной сеткой\n",
    "                    else:\n",
    "                        tree[i // 2] = tree[i + 1]\n",
    "                else:\n",
    "                    tree[i // 2] = tree[i] if tree[i] != None else tree[i + 1]\n",
    "            index -= n\n",
    "\n",
    "        index, x = tree[0]\n",
    "        arr[j] = x\n",
    "        tree[len(tree) - len(arr) - len(arr) % 2 + index] = None"
   ]
  },
  {
   "cell_type": "code",
   "execution_count": 24,
   "metadata": {},
   "outputs": [
    {
     "name": "stdout",
     "output_type": "stream",
     "text": [
      "Исходный массив:\n",
      "[952, 428, 260, 931, 956, 789, 674, 486, 254, 875, 493, -12, 720, 575, 936, 652, 147, 676, 473, -237]\n",
      "Результирующий массив\n",
      "[-237, -12, 147, 254, 260, 428, 473, 486, 493, 575, 652, 674, 676, 720, 789, 875, 931, 936, 952, 956]\n"
     ]
    }
   ],
   "source": [
    "from random import randint\n",
    "n = 20\n",
    "min_lim = -250\n",
    "max_lim = 1012\n",
    "a=[randint(min_lim,max_lim) for i in range(n)]\n",
    "print (\"Исходный массив:\")\n",
    "print(a)\n",
    "print(\"Результирующий массив\")\n",
    "tournirnaya(a)\n",
    "print(a)\n"
   ]
  },
  {
   "cell_type": "code",
   "execution_count": 29,
   "metadata": {},
   "outputs": [],
   "source": [
    "# Пирамидальная\n",
    "def heapify(nums, heap_size, root_index):  \n",
    "    largest = root_index\n",
    "    left_child = (2 * root_index) + 1\n",
    "    right_child = (2 * root_index) + 2\n",
    "    if left_child < heap_size and nums[left_child] > nums[largest]:\n",
    "        largest = left_child\n",
    "    if right_child < heap_size and nums[right_child] > nums[largest]:\n",
    "        largest = right_child\n",
    "    if largest != root_index:\n",
    "        nums[root_index], nums[largest] = nums[largest], nums[root_index]\n",
    "        heapify(nums, heap_size, largest)\n",
    "def heap_sort(nums):  \n",
    "    n = len(nums)\n",
    "    for i in range(n, -1, -1):\n",
    "        heapify(nums, n, i)\n",
    "    for i in range(n - 1, 0, -1):\n",
    "        nums[i], nums[0] = nums[0], nums[i]\n",
    "        heapify(nums, i, 0)"
   ]
  },
  {
   "cell_type": "code",
   "execution_count": 31,
   "metadata": {},
   "outputs": [
    {
     "name": "stdout",
     "output_type": "stream",
     "text": [
      "Исходный массив:\n",
      "[403, 366, 552, 221, 603, -227, 773, 746, 553, 775, 777, 58, -215, 1003, 954, 500, 723, -139, 144, -146]\n",
      "Результирующий массив\n",
      "[-227, -215, -146, -139, 58, 144, 221, 366, 403, 500, 552, 553, 603, 723, 746, 773, 775, 777, 954, 1003]\n"
     ]
    }
   ],
   "source": [
    "from random import randint\n",
    "n = 20\n",
    "min_lim = -250\n",
    "max_lim = 1012\n",
    "a=[randint(min_lim,max_lim) for i in range(n)]\n",
    "print (\"Исходный массив:\")\n",
    "print(a)\n",
    "print(\"Результирующий массив\")\n",
    "heap_sort(a)\n",
    "print(a)"
   ]
  },
  {
   "cell_type": "code",
   "execution_count": 36,
   "metadata": {},
   "outputs": [
    {
     "name": "stdout",
     "output_type": "stream",
     "text": [
      "Турнирная: 0.0006725999999162013 seconds\n",
      "Пирамидальная: 0.00018899999986388138 seconds\n",
      "Быстрая: 0.0001014000001759996 seconds\n",
      "Вставка: 5.2000000096086296e-05 seconds\n",
      "Шелл: 7.860000005166512e-05 seconds\n",
      "Обмен: 7.660000005671463e-05 seconds\n",
      "Выбор: 8.490000004712783e-05 seconds\n",
      "Встроенная сортировка: 4.290000015316764e-05 seconds\n"
     ]
    }
   ],
   "source": [
    "import time\n",
    "from time import perf_counter\n",
    "from random import randint\n",
    "n = 20\n",
    "min_lim = -250\n",
    "max_lim = 1012\n",
    "A=[randint(min_lim,max_lim) for i in range(n)]\n",
    "copy_1 = A\n",
    "t1_start = perf_counter()\n",
    "B = tournirnaya(copy_1)\n",
    "t1_stop = perf_counter()\n",
    "print(\"Турнирная: %s seconds\" % (t1_stop-t1_start))\n",
    "copy_1 = A\n",
    "t1_start = perf_counter()\n",
    "C = pyramid(copy_1)\n",
    "t1_stop = perf_counter()\n",
    "print(\"Пирамидальная: %s seconds\" % (t1_stop-t1_start))\n",
    "copy_1 = A\n",
    "t1_start = perf_counter()\n",
    "D = bustraya(copy_1)\n",
    "t1_stop = perf_counter()\n",
    "print(\"Быстрая: %s seconds\" % (t1_stop-t1_start))\n",
    "copy_1 = A\n",
    "t1_start = perf_counter()\n",
    "E = vstavka(copy_1)\n",
    "t1_stop = perf_counter()\n",
    "print(\"Вставка: %s seconds\" % (t1_stop-t1_start))\n",
    "copy_1 = A\n",
    "t1_start = perf_counter()\n",
    "C = shell(copy_1)\n",
    "t1_stop = perf_counter()\n",
    "print(\"Шелл: %s seconds\" % (t1_stop-t1_start))\n",
    "copy_1 = A\n",
    "t1_start = perf_counter()\n",
    "D = obmen(copy_1)\n",
    "t1_stop = perf_counter()\n",
    "print(\"Обмен: %s seconds\" % (t1_stop-t1_start))\n",
    "copy_1 = A\n",
    "t1_start = perf_counter()\n",
    "E = vubor(copy_1)\n",
    "t1_stop = perf_counter()\n",
    "print(\"Выбор: %s seconds\" % (t1_stop-t1_start))\n",
    "copy_1 = A\n",
    "t1_start = perf_counter()\n",
    "sorted(copy_1)\n",
    "t1_stop = perf_counter()\n",
    "print(\"Встроенная сортировка: %s seconds\" % (t1_stop-t1_start))"
   ]
  },
  {
   "cell_type": "markdown",
   "metadata": {},
   "source": [
    "# Вывод\n",
    "В результате проделанной лабораторной работы мы реализовали генерацию случайной матрицы и изучили методы сортировок матрицы."
   ]
  },
  {
   "cell_type": "code",
   "execution_count": null,
   "metadata": {},
   "outputs": [],
   "source": []
  }
 ],
 "metadata": {
  "kernelspec": {
   "display_name": "Python 3",
   "language": "python",
   "name": "python3"
  },
  "language_info": {
   "codemirror_mode": {
    "name": "ipython",
    "version": 3
   },
   "file_extension": ".py",
   "mimetype": "text/x-python",
   "name": "python",
   "nbconvert_exporter": "python",
   "pygments_lexer": "ipython3",
   "version": "3.8.5"
  }
 },
 "nbformat": 4,
 "nbformat_minor": 4
}
