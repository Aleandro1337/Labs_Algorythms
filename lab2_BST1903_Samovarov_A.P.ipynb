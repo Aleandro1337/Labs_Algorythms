{
 "cells": [
  {
   "cell_type": "markdown",
   "metadata": {},
   "source": [
    "# Лабораторная работа №2"
   ]
  },
  {
   "cell_type": "markdown",
   "metadata": {},
   "source": [
    "Методы поиска"
   ]
  },
  {
   "cell_type": "markdown",
   "metadata": {},
   "source": [
    "Выполнил студент группы БСТ1903 Самоваров А.П."
   ]
  },
  {
   "cell_type": "markdown",
   "metadata": {},
   "source": [
    "Реализовать методы поиска в соответствии с заданием. Организовать генерацию начального набора случайных данных. Для всех вариантов добавить реализацию добавления, поиска и удаления элементов. Оценить время работы каждого алгоритма поиска и сравнить его со временем работы стандартной функции поиска, используемой в выбранном языке программирования."
   ]
  },
  {
   "cell_type": "markdown",
   "metadata": {},
   "source": [
    "## Задание 1"
   ]
  },
  {
   "cell_type": "markdown",
   "metadata": {},
   "source": [
    "Бинарный поиск, бинарное дерево, фибоначчиев, интерполяционный"
   ]
  },
  {
   "cell_type": "markdown",
   "metadata": {},
   "source": [
    "Бинарный поиск"
   ]
  },
  {
   "cell_type": "code",
   "execution_count": 4,
   "metadata": {},
   "outputs": [],
   "source": [
    "def binarniy(mass, n):\n",
    "    rigth=int(len(mass))\n",
    "    rigth=rigth-1\n",
    "    left=int(0)\n",
    "    while (n > mass[int(left+((rigth-left)/2))]) or (n < mass[int(left+((rigth-left)/2))]):\n",
    "       # print(int((rigth-left)/2))\n",
    "        if n>mass[int(left+((rigth-left)/2))]:\n",
    "            left=int(left+((rigth-left)/2))\n",
    "        if n<mass[int(left+((rigth-left)/2))]:\n",
    "            rigth=int(left+((rigth-left)/2))\n",
    "    if mass[int(left+((rigth-left)/2))]==n:\n",
    "        return int(left+((rigth-left)/2))\n",
    "    return -1   "
   ]
  },
  {
   "cell_type": "markdown",
   "metadata": {},
   "source": [
    "Фибоначчиев поиск"
   ]
  },
  {
   "cell_type": "code",
   "execution_count": 13,
   "metadata": {},
   "outputs": [],
   "source": [
    "def search_Fib(mass, n):\n",
    "    fib1=0\n",
    "    fib2=1\n",
    "    fibm=fib1+fib2\n",
    "    while len(mass)>fibm:\n",
    "        fib1=fib2\n",
    "        fib2=fibm\n",
    "        fibm=fib1+fib2\n",
    "    index=-1\n",
    "    while (fibm>1):\n",
    "        i=min(index+fib1, len(mass)-1)\n",
    "        if (mass[i]<n):# если n больше элемента, то переместить три переменные Фибоначчи на одну вниз и сбросить индекс до i\n",
    "            fibm=fib2\n",
    "            fib2=fib1\n",
    "            fib1=fibm-fib2\n",
    "            index=i\n",
    "        elif (mass[i]>n):#если n меньше элемента, то переместить три переменные Фибоначчи на 2 вниз\n",
    "            fibm=fib1\n",
    "            fib2=fib2-fib1\n",
    "            fib1=fibm-fib2\n",
    "        else:#\n",
    "            return i\n",
    "    if (fib2 and index<(len(mass)-1) and mass[index+1]==n):\n",
    "        return index+1\n",
    "    return -1"
   ]
  },
  {
   "cell_type": "markdown",
   "metadata": {},
   "source": [
    "Бинарное дерево"
   ]
  },
  {
   "cell_type": "code",
   "execution_count": 14,
   "metadata": {},
   "outputs": [],
   "source": [
    "class TreeNode:\n",
    "    def __init__(self, value):\n",
    "        self.value=value\n",
    "        self.right=None\n",
    "        self.left=None\n",
    "    def addTo(self, mas):\n",
    "        if mas<self.value:\n",
    "            if self.left is None:\n",
    "                self.left=TreeNode(mas)\n",
    "            else:\n",
    "                self.left.addTo( mas)\n",
    "        else:\n",
    "            if self.right is None:\n",
    "                self.right=TreeNode(mas)\n",
    "            else:\n",
    "                self.right.addTo(mas)\n",
    "        \n",
    "            \n",
    "    def pre_order(self, nl):\n",
    "        if nl and self and self.value is not None:\n",
    "            if nl>self.value and self.right:\n",
    "                self=self.right.pre_order(nl)\n",
    "            elif nl<self.value and self.left:\n",
    "                self=self.left.pre_order(nl)\n",
    "            elif(nl==self.value):\n",
    "                print(\"Элемент найден\")\n",
    "                return self\n",
    "            else:\n",
    "                print(\"Элемент не найдет\")\n",
    "                return None\n",
    "            \n",
    "        else:\n",
    "            print(\"Элемент не найдет\")\n",
    "            return None\n",
    "        return self\n",
    "        \n",
    "    def deleted(self):\n",
    "        if self.right is not None:\n",
    "            self.value=self.right.value\n",
    "            self.right.deleted()\n",
    "        elif self.left is not None:\n",
    "            self.value=self.left.value\n",
    "            self.left.deleted()\n",
    "        elif (self.left is None) and (self.right is None):\n",
    "            self.value=None\n",
    "    \n",
    "    def delit(self, i):\n",
    "        self.pre_order(i).deleted()\n",
    "        \n",
    "    def pr(self):\n",
    "        if self.left:\n",
    "            self.left.pr()\n",
    "        print(self.value)\n",
    "        if self.right:\n",
    "            self.right.pr()"
   ]
  },
  {
   "cell_type": "markdown",
   "metadata": {},
   "source": [
    "Интерполяционный поиск"
   ]
  },
  {
   "cell_type": "code",
   "execution_count": 15,
   "metadata": {},
   "outputs": [],
   "source": [
    "def Interpolation_search(mass, n):\n",
    "    rigth=int(len(mass)-1)\n",
    "    left=0\n",
    "    while rigth>=left and n>=mass[left] and n<=mass[rigth]:\n",
    "        index=left+int(((float(rigth-left)/(mass[rigth]-mass[left]))*(n-mass[left])))\n",
    "        if (mass[index]==n):\n",
    "            return index\n",
    "        elif (mass[index]<n):\n",
    "            left=index+1\n",
    "        else:\n",
    "            rigth=index-1\n",
    "    return -1"
   ]
  },
  {
   "cell_type": "code",
   "execution_count": 16,
   "metadata": {},
   "outputs": [],
   "source": [
    "import numpy\n",
    "def matrixgen():\n",
    "    n=int(input('Введите длину массива'))\n",
    "    massiv = numpy.random.random_integers(0, 20, size=(n))\n",
    "    massiv=sorted(massiv)\n",
    "    for i, j in enumerate(massiv):\n",
    "        print(\"massiv[\", i, \"]=\", j)\n",
    "    return massiv"
   ]
  },
  {
   "cell_type": "code",
   "execution_count": 18,
   "metadata": {},
   "outputs": [
    {
     "name": "stdout",
     "output_type": "stream",
     "text": [
      "Введите длину массива5\n"
     ]
    },
    {
     "name": "stderr",
     "output_type": "stream",
     "text": [
      "<ipython-input-16-fafd5a64d391>:4: DeprecationWarning: This function is deprecated. Please call randint(0, 20 + 1) instead\n",
      "  massiv = numpy.random.random_integers(0, 20, size=(n))\n"
     ]
    },
    {
     "name": "stdout",
     "output_type": "stream",
     "text": [
      "massiv[ 0 ]= 2\n",
      "massiv[ 1 ]= 8\n",
      "massiv[ 2 ]= 9\n",
      "massiv[ 3 ]= 11\n",
      "massiv[ 4 ]= 12\n",
      "Matrix created, next point:\n",
      "1. Add new item \n",
      "2. Find item \n",
      "3. Delete item\n",
      "1\n",
      "Write the item to add\n",
      "15\n",
      "massiv[ 0 ]= 2\n",
      "massiv[ 1 ]= 8\n",
      "massiv[ 2 ]= 9\n",
      "massiv[ 3 ]= 11\n",
      "massiv[ 4 ]= 12\n",
      "massiv[ 5 ]= 15\n",
      "Continue working with matrix?\n",
      "1. Yes\n",
      "2. No\n",
      "1\n",
      "1. Add new item \n",
      "2. Find item \n",
      "3. Delete item\n",
      "2\n",
      "chose the way to search\n",
      "1. Бинарный поиск\n",
      "2. Фибоначчиев поиск\n",
      "3. Интерполяционный поиск\n",
      "3\n",
      "Insert the item to find\n",
      "11\n",
      "3\n",
      "Continue working with matrix?\n",
      "1. Yes\n",
      "2. No\n",
      "1\n",
      "1. Add new item \n",
      "2. Find item \n",
      "3. Delete item\n",
      "3\n",
      "Insert the item\n",
      "2\n",
      "massiv[ 0 ]= 2\n",
      "massiv[ 1 ]= 8\n",
      "massiv[ 2 ]= 11\n",
      "massiv[ 3 ]= 12\n",
      "massiv[ 4 ]= 15\n",
      "Continue working with matrix?\n",
      "1. Yes\n",
      "2. No\n",
      "2\n"
     ]
    }
   ],
   "source": [
    "massiv=matrixgen()\n",
    "print(\"Matrix created, next point:\")\n",
    "ln=int(1)\n",
    "while ln==1:\n",
    "    print(\"1. Add new item \\n2. Find item \\n3. Delete item\")\n",
    "    var=int(input())#Действия: 1- добавить элемент 2- найти элемент 3- удалить элемент\n",
    "    if var ==1:\n",
    "        print(\"Write the item to add\")\n",
    "        new_element=int(input())\n",
    "        massiv.insert(len(massiv), new_element)\n",
    "        massiv=sorted(massiv)\n",
    "        for i, j in enumerate(massiv):\n",
    "            print(\"massiv[\", i, \"]=\", j)\n",
    "        print(\"Continue working with matrix?\\n1. Yes\\n2. No\")\n",
    "        ln=int(input())\n",
    "    if var==3:\n",
    "        print(\"Insert the item\")\n",
    "        delete_element=int(input())\n",
    "        del(massiv[delete_element])\n",
    "        for i, j in enumerate(massiv):\n",
    "            print(\"massiv[\", i, \"]=\", j)\n",
    "        print(\"Continue working with matrix?\\n1. Yes\\n2. No\")\n",
    "        ln=int(input())\n",
    "    if var==2:\n",
    "        print(\"chose the way to search\\n1. Бинарный поиск\\n2. Фибоначчиев поиск\\n3. Интерполяционный поиск\")\n",
    "        var=int(input())#выбор алгоритма поиска 1- бинарный поиск 2-Фибоначчиев поиск 3- Интерполяционный поиск\n",
    "        \n",
    "        if var==1:\n",
    "            print(\"Insert the item to find\")\n",
    "            search_element=int(input())\n",
    "            index=binarniy(massiv, search_element)\n",
    "            if index==-1:\n",
    "                print(\"item not found\")\n",
    "            else:\n",
    "                print(index)\n",
    "        if var==2:\n",
    "            print(\"Insert the item to find\")\n",
    "            search_element=int(input())\n",
    "            index=search_Fib(massiv, search_element)\n",
    "            if index==-1:\n",
    "                print(\"item not found\")\n",
    "            else:\n",
    "                print(index)\n",
    "        if var==3:\n",
    "            print(\"Insert the item to find\")\n",
    "            search_element=int(input())\n",
    "            index=Interpolation_search(massiv, search_element)\n",
    "            if index==-1:\n",
    "                print(\"item not found\")\n",
    "            else:\n",
    "                print(index)\n",
    "                #\n",
    "                \n",
    "        print(\"Continue working with matrix?\\n1. Yes\\n2. No\")\n",
    "        ln=int(input())"
   ]
  },
  {
   "cell_type": "markdown",
   "metadata": {},
   "source": [
    "## Задание 2"
   ]
  },
  {
   "cell_type": "markdown",
   "metadata": {},
   "source": [
    "Простое рехэширование,Рехэширование с помощью псевдослучайных чисел, Метод цепочек"
   ]
  },
  {
   "cell_type": "markdown",
   "metadata": {},
   "source": [
    "Простое рехэширование"
   ]
  },
  {
   "cell_type": "code",
   "execution_count": 1,
   "metadata": {},
   "outputs": [],
   "source": [
    "class HashMap:\n",
    "    def __init__(self):\n",
    "        self.size = 0\n",
    "        self.data = []\n",
    "        self._resize()\n",
    "    \n",
    "    def _hash(self, key, i):\n",
    "        return (hash(key) + i) % len(self.data)\n",
    "        \n",
    "    def _find(self, key):\n",
    "        i = 0;\n",
    "        index = self._hash(key, i);\n",
    "        while self.data[index] is not None and self.data[index][0] != key:\n",
    "            i += 1\n",
    "            index = self._hash(key, i);\n",
    "        return index;\n",
    "    \n",
    "    def _resize(self):\n",
    "        temp = self.data\n",
    "        self.data = [None] * (2*len(self.data) + 1)\n",
    "        for item in temp:\n",
    "            if item is not None:\n",
    "                self.data[self._find(item[0])] = item\n",
    "    \n",
    "    def __setitem__(self, key, value):\n",
    "        if self.size + 1 > len(self.data) // 2:\n",
    "            self._resize()\n",
    "        index = self._find(key)\n",
    "        if self.data[index] is None:  \n",
    "            self.size += 1\n",
    "        self.data[index] = (key, value)\n",
    "    \n",
    "    def __getitem__(self, key):\n",
    "        index = self._find(key)\n",
    "        if self.data[index] is not None:\n",
    "            return self.data[index][1]\n",
    "        raise KeyError()"
   ]
  },
  {
   "cell_type": "markdown",
   "metadata": {},
   "source": [
    "Рехэширование с помощью псевдослучайных чисел"
   ]
  },
  {
   "cell_type": "code",
   "execution_count": 2,
   "metadata": {},
   "outputs": [],
   "source": [
    "class RandomHashMap(HashMap):\n",
    "    _rand_c = [5323]\n",
    "    \n",
    "    def _rand(self, i):\n",
    "        if len(self._rand_c) - 1 < i:\n",
    "            self._rand_c.append(self._rand(i - 1))\n",
    "        return (123456789 * self._rand_c[i] + 987654321) % 65546\n",
    "        \n",
    "    def _hash(self, key, i):\n",
    "        return (hash(key) + self._rand(i)) % len(self.data)"
   ]
  },
  {
   "cell_type": "markdown",
   "metadata": {},
   "source": [
    " Метод цепочек"
   ]
  },
  {
   "cell_type": "code",
   "execution_count": 7,
   "metadata": {},
   "outputs": [],
   "source": [
    "class chain_rehash:\n",
    "    # Конструктор, создание словаря\n",
    "    def __init__(self):\n",
    "        self.rhash=[[]*0 for i in range(10)]\n",
    "    \n",
    "    def add(self, element):  # Добавление элемента\n",
    "        key=int(0)\n",
    "        for i in range(len(element)):\n",
    "            key=key+ord(element[i])\n",
    "        key=key%10\n",
    "        self.rhash[key].append(element)\n",
    "        \n",
    "        \n",
    "    def search(self, element): #Поиск\n",
    "            key=int(0)\n",
    "            for i in range(len(element)):\n",
    "                key=key+ord(element[i])\n",
    "            key=key%10\n",
    "            if self.rhash[key] is not None:\n",
    "                for i in range(len(self.rhash[key])):\n",
    "                    if self.rhash[key][i]==element:\n",
    "                        return key, i\n",
    "            return None, None\n",
    "            \n",
    "    def deleted(self, element):\n",
    "            key, i=self.search(element)\n",
    "            if key is not None:\n",
    "                del(self.rhash[key][i])\n",
    "                print(\"Элемент успешно удален\")\n",
    "            else:\n",
    "                print(\"Элемент не найден\")\n",
    "                return -1\n",
    "    \n",
    "    def pr(self): #вывод\n",
    "        for key in range(len(self.rhash)):\n",
    "            for i in range(len(self.rhash[key])):\n",
    "                if self.rhash[key][i] is not None:\n",
    "                    print(\"(ключ)\", key, \"- (Элемент)\", self.rhash[key][i])"
   ]
  },
  {
   "cell_type": "markdown",
   "metadata": {},
   "source": [
    "# Вывод"
   ]
  },
  {
   "cell_type": "code",
   "execution_count": 8,
   "metadata": {},
   "outputs": [
    {
     "name": "stdout",
     "output_type": "stream",
     "text": [
      "Выберите метод рехэширования\n",
      "1.Простое рехэширование\n",
      "2.Рехэширование с использованием псевдослучайных числе\n",
      "3.Метод цепочек\n",
      "3\n",
      "Введите количество элементов, которые необходимо добавить\n",
      "1\n",
      "Введите элементы которые необходимо добавить\n",
      "qwe\n",
      "(ключ) 3 - (Элемент) qwe\n",
      "Найти элемент?\n",
      "1. Да\n",
      "2. Нет\n",
      "1\n",
      "Введите элемент\n",
      "qwe\n",
      "Элемент найден. Удалить элемент?\n",
      "1. Да\n",
      "2. Нет\n",
      "\n",
      "1\n",
      "Элемент успешно удален\n",
      "Найти элемент?\n",
      "1. Да\n",
      "2. Нет\n",
      "2\n",
      "Продолжить работу\n",
      "1.Да\n",
      "2. Нет\n",
      "2\n"
     ]
    }
   ],
   "source": [
    "ln=1\n",
    "while ln==1:\n",
    "    print(\"Выберите метод рехэширования\\n1.Простое рехэширование\\n2.Рехэширование с использованием псевдослучайных числе\\n3.Метод цепочек\")\n",
    "    var=int(input())\n",
    "\n",
    "    if var==3:#реализация метода цепочек\n",
    "        chain=chain_rehash()\n",
    "        print(\"Введите количество элементов, которые необходимо добавить\")\n",
    "        colelement=int(input())\n",
    "        elements=[\"\"]*colelement\n",
    "        print(\"Введите элементы которые необходимо добавить\")\n",
    "        for i in range(colelement):\n",
    "            elements[i]=(input()) #ввод элементов\n",
    "        for i in range(len(elements)):\n",
    "            chain.add(elements[i]) #реализация метода цепочек\n",
    "        chain.pr()\n",
    "        print(\"Найти элемент?\\n1. Да\\n2. Нет\")\n",
    "        ot=int(input())\n",
    "        while(ot==1):\n",
    "            print(\"Введите элемент\")\n",
    "            s=input()\n",
    "            key, el=chain.search(s)#поиск\n",
    "            if key is not None:\n",
    "                print(\"Элемент найден. Удалить элемент?\\n1. Да\\n2. Нет\\n\")\n",
    "                dl=int(input())\n",
    "                if(dl==1):\n",
    "                    chain.deleted(s)\n",
    "                    chain.pr()\n",
    "            else:\n",
    "                print(\"Элемент не найдет\")\n",
    "            print(\"Найти элемент?\\n1. Да\\n2. Нет\")\n",
    "            ot=int(input())\n",
    "        print(\"Продолжить работу\\n1.Да\\n2. Нет\")\n",
    "        ln=int(input())\n",
    "        \n",
    "    if var==1:# Простое рехэширование\n",
    "        pr_rehash=prost_rehash()\n",
    "        print(\"Введите количество элементов, которые необходимо добавить\")\n",
    "        colelement=int(input())\n",
    "        elements=[\"\"]*colelement\n",
    "        print(\"Введите элементы которые необходимо добавить\")\n",
    "        for i in range(colelement):\n",
    "            elements[i]=(input())#ввод элементов\n",
    "        for i in range(len(elements)):\n",
    "            pr_rehash.add(elements[i])\n",
    "        pr_rehash.pr()\n",
    "        print(\"Найти элемент?\\n1. Да\\n2. Нет\")\n",
    "        ot=int(input())\n",
    "        while(ot==1):\n",
    "            print(\"Введите элемент\")\n",
    "            s=input()\n",
    "            key=pr_rehash.search(s)#поиск\n",
    "            if key is not None:\n",
    "                print(\"Элемент найден. Удалить элемент?\\n1. Да\\n2. Нет\\n\")\n",
    "                dl=int(input())\n",
    "                if(dl==1):\n",
    "                    pr_rehash.deleted(s)\n",
    "                    pr_rehash.pr()\n",
    "            else:\n",
    "                print(\"Элемент не найдет\")\n",
    "            print(\"Найти элемент?\\n1. Да\\n2. Нет\")\n",
    "            ot=int(input())\n",
    "        print(\"Продолжить работу\\n1.Да\\n2. Нет\")\n",
    "        ln=int(input())\n",
    "        \n",
    "    if var==2:# Рехэширование с использование псевдослучайных чисел\n",
    "        rand_rehash=random_rehash()\n",
    "        print(\"Введите количество элементов, которые необходимо добавить\")\n",
    "        colelement=int(input())\n",
    "        elements=[\"\"]*colelement\n",
    "        print(\"Введите элементы которые необходимо добавить\")\n",
    "        for i in range(colelement):\n",
    "            elements[i]=(input())#ввод элементов\n",
    "        for i in range(len(elements)):\n",
    "            rand_rehash.add(elements[i])\n",
    "        rand_rehash.pr()\n",
    "        print(\"Найти элемент?\\n1. Да\\n2. Нет\")\n",
    "        ot=int(input())\n",
    "        while(ot==1):\n",
    "            print(\"Введите элемент\")\n",
    "            s=input()\n",
    "            key=rand_rehash.search(s)#поиск\n",
    "            if key is not None:\n",
    "                print(\"Элемент найден. Удалить элемент?\\n1. Да\\n2. Нет\\n\")\n",
    "                dl=int(input())\n",
    "                if(dl==1):\n",
    "                    rand_rehash.deleted(s)\n",
    "                    rand_rehash.pr()\n",
    "            else:\n",
    "                print(\"Элемент не найдет\")\n",
    "            print(\"Найти элемент?\\n1. Да\\n2. Нет\")\n",
    "            ot=int(input())\n",
    "        print(\"Продолжить работу\\n1. Да\\n2. Нет\")\n",
    "        ln=int(input())"
   ]
  },
  {
   "cell_type": "markdown",
   "metadata": {},
   "source": [
    "## Задание 3"
   ]
  },
  {
   "cell_type": "markdown",
   "metadata": {},
   "source": [
    "Расставить на стандартной 64-клеточной шахматной доске 8 ферзей так, чтобы ни один из них не находился под боем другого». Подразумевается, что ферзь бьёт все клетки, расположенные по вертикалям, горизонталям и обеим диагоналям Написать программу, которая находит хотя бы один способ решения задач."
   ]
  },
  {
   "cell_type": "code",
   "execution_count": 1,
   "metadata": {},
   "outputs": [
    {
     "name": "stdout",
     "output_type": "stream",
     "text": [
      "8\n",
      ". Ф . . . . . .\n",
      ". . . Ф . . . .\n",
      ". . . . . Ф . .\n",
      ". . . . . . . Ф\n",
      ". . Ф . . . . .\n",
      "Ф . . . . . . .\n",
      ". . . . . . Ф .\n",
      ". . . . Ф . . .\n",
      "\n",
      "\n",
      ". . . . Ф . . .\n",
      ". . . . . . Ф .\n",
      "Ф . . . . . . .\n",
      ". . Ф . . . . .\n",
      ". . . . . . . Ф\n",
      ". . . . . Ф . .\n",
      ". . . Ф . . . .\n",
      ". Ф . . . . . .\n"
     ]
    }
   ],
   "source": [
    "n=int(input())\n",
    "if n%6==2:\n",
    "    even=list(range(1,n,2))\n",
    "    odd=list(range(2,n,2))\n",
    "    odd[1]=0\n",
    "    odd.append(4)\n",
    "elif n%6==3:\n",
    "    even=list(range(3, n, 2))\n",
    "    odd=list(range(4, n, 2))\n",
    "    even.append(1)\n",
    "    odd.append(0)\n",
    "    odd.append(2)\n",
    "else:\n",
    "    even=list(range(1,n,2))\n",
    "    odd=list(range(0,n,2))\n",
    "rez=even+odd\n",
    "row=[\".\"]*n\n",
    "for i in range(n):\n",
    "    j=rez[i]\n",
    "    row[j]=\"Ф\"\n",
    "    print(*row)\n",
    "    row[j]=\".\"\n",
    "i=n-1\n",
    "print(\"\\n\")\n",
    "while i>=0:\n",
    "    j=rez[i]\n",
    "    row[j]=\"Ф\"\n",
    "    print(*row)\n",
    "    row[j]=\".\"\n",
    "    i-=1"
   ]
  },
  {
   "cell_type": "code",
   "execution_count": null,
   "metadata": {},
   "outputs": [],
   "source": []
  }
 ],
 "metadata": {
  "kernelspec": {
   "display_name": "Python 3",
   "language": "python",
   "name": "python3"
  },
  "language_info": {
   "codemirror_mode": {
    "name": "ipython",
    "version": 3
   },
   "file_extension": ".py",
   "mimetype": "text/x-python",
   "name": "python",
   "nbconvert_exporter": "python",
   "pygments_lexer": "ipython3",
   "version": "3.8.5"
  }
 },
 "nbformat": 4,
 "nbformat_minor": 4
}
